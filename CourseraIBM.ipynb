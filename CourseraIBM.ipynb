{
 "cells": [
  {
   "cell_type": "markdown",
   "id": "8cadb028-06f6-4f88-9480-469d3a73937e",
   "metadata": {},
   "source": []
  },
  {
   "cell_type": "markdown",
   "id": "d1647b74-d3f6-414e-b3e2-ac0a890044ef",
   "metadata": {},
   "source": [
    "# My Jupyter Notebook on IBM Watson Studio"
   ]
  },
  {
   "cell_type": "markdown",
   "id": "cb3c1ec8-6dca-4436-b061-05ccccbef281",
   "metadata": {},
   "source": [
    " **Name - Lakshay Kumar**\n",
    " \n",
    " **Occupation - Student**\n",
    " "
   ]
  },
  {
   "cell_type": "markdown",
   "id": "f2683b26-3d75-4060-8959-093d931dd5a0",
   "metadata": {},
   "source": []
  },
  {
   "cell_type": "markdown",
   "id": "5ad1069f-f098-4bfd-b589-4d15b87232ac",
   "metadata": {},
   "source": [
    "*I am interested in data science because it is the fastest growing careers of the 21st century. Also, I am interested in analytical work. I want to analyse data to derive useful insights for an organisation.*"
   ]
  },
  {
   "cell_type": "markdown",
   "id": "4ff968aa-d9c0-49b4-8b68-3319db48e93f",
   "metadata": {},
   "source": []
  },
  {
   "cell_type": "markdown",
   "id": "06e5f6e9-0320-4645-a691-d4d73e288055",
   "metadata": {},
   "source": [
    "### The below code represents simple mathematical functions like addition, subtraction, multiplication and division"
   ]
  },
  {
   "cell_type": "code",
   "execution_count": 7,
   "id": "960358d9-0a30-4deb-b729-99127a38e4c4",
   "metadata": {},
   "outputs": [
    {
     "data": {
      "text/plain": [
       "1.3333333333333335"
      ]
     },
     "execution_count": 7,
     "metadata": {},
     "output_type": "execute_result"
    }
   ],
   "source": [
    "1+1-2/6*2"
   ]
  },
  {
   "cell_type": "markdown",
   "id": "ea2dd125-530f-4925-a77f-6c5c33e4545d",
   "metadata": {},
   "source": []
  },
  {
   "cell_type": "markdown",
   "id": "92f7a962-7795-446d-aec5-6adb4e926e69",
   "metadata": {},
   "source": [
    "Horizontal Rule <hr/>\n",
    "\n",
    "\n",
    "**Bulleted List**\n",
    "\n",
    "\n",
    "* Bullet 1\n",
    "* Bullet 2\n",
    "* Bullet 3\n",
    "* Bullet 4\n",
    "\n",
    "\n",
    "**Numbered List**\n",
    "\n",
    "1. Baked potato\n",
    "2. Baked beans\n",
    "3. Pepper\n",
    "\n",
    "\n",
    "\n",
    "\n",
    "**Tables**\n",
    "\n",
    "\n",
    "\n",
    "|   R1   |  C1  |  C2  |\n",
    "| ------ | ---- | ---- |\n",
    "|   R2   |  C3  |  C4  |\n",
    "|   R5   |  C5  |  C6  |\n",
    "\n",
    "\n",
    "\n",
    "\n",
    "\n",
    "\n",
    "**Syntax Highlighting**\n",
    "\n",
    "```json\n",
    "\n",
    "  \"firstName\": \"Lakshay\",\n",
    "  \"lastName\": \"Kumar\",\n",
    "  \"age\": 19\n",
    "\n",
    "```\n",
    "\n",
    "\n",
    "~~This is a strikethrough text.~~\n",
    "\n",
    "\n",
    "\n",
    "\n",
    "\n",
    "https://youtube.com/\n",
    "\n",
    "\n",
    "\n",
    "\n",
    "\n",
    "\n",
    "\n",
    "\n",
    "\n",
    "\n",
    "**Blockquotes**\n",
    "\n",
    "> \"In a few moments he was barefoot, his stockings folded in his pockets and his\n",
    "  canvas shoes dangling by their knotted laces over his shoulders and, picking a\n",
    "  pointed salt-eaten stick out of the jetsam among the rocks, he clambered down\n",
    "  the slope of the breakwater.\"\n"
   ]
  },
  {
   "cell_type": "markdown",
   "id": "5167eeac-c528-4e0e-acb0-f97ee09e3a04",
   "metadata": {},
   "source": []
  },
  {
   "cell_type": "markdown",
   "id": "269b9b13-7c23-427c-a80e-9dad4fa2bebf",
   "metadata": {},
   "source": [
    "Thank You"
   ]
  }
 ],
 "metadata": {
  "kernelspec": {
   "display_name": "Python",
   "language": "python",
   "name": "conda-env-python-py"
  },
  "language_info": {
   "codemirror_mode": {
    "name": "ipython",
    "version": 3
   },
   "file_extension": ".py",
   "mimetype": "text/x-python",
   "name": "python",
   "nbconvert_exporter": "python",
   "pygments_lexer": "ipython3",
   "version": "3.7.12"
  }
 },
 "nbformat": 4,
 "nbformat_minor": 5
}
